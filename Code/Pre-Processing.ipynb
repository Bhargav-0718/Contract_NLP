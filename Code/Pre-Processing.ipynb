{
 "cells": [
  {
   "cell_type": "code",
   "execution_count": 22,
   "id": "f8a6b1c2",
   "metadata": {},
   "outputs": [
    {
     "name": "stdout",
     "output_type": "stream",
     "text": [
      "Top-level keys: dict_keys(['version', 'data'])\n",
      "version <class 'str'>\n",
      "data <class 'list'>\n",
      "Length of list: 510\n"
     ]
    }
   ],
   "source": [
    "import json\n",
    "\n",
    "with open(\"CUAD_v1/CUAD_v1.json\", \"r\", encoding=\"utf-8\") as f:\n",
    "    full_data = json.load(f)\n",
    "\n",
    "# Check top-level keys\n",
    "print(\"Top-level keys:\", full_data.keys())\n",
    "\n",
    "# Optionally, inspect one key's type and length\n",
    "for k in full_data.keys():\n",
    "    print(k, type(full_data[k]))\n",
    "    if isinstance(full_data[k], list):\n",
    "        print(\"Length of list:\", len(full_data[k]))\n"
   ]
  },
  {
   "cell_type": "code",
   "execution_count": 23,
   "id": "011d632d",
   "metadata": {},
   "outputs": [
    {
     "name": "stdout",
     "output_type": "stream",
     "text": [
      "Total contracts in dataset: 510\n",
      "Train: 357, Validation: 76, Test: 77\n",
      "Train/Validation/Test JSON files saved in CUAD_v1/json_split\n"
     ]
    }
   ],
   "source": [
    "import json\n",
    "import os\n",
    "import random\n",
    "\n",
    "# Paths\n",
    "full_json_path = \"CUAD_v1/CUAD_v1.json\"\n",
    "output_dir = \"CUAD_v1/json_split\"\n",
    "os.makedirs(output_dir, exist_ok=True)\n",
    "\n",
    "# Load full dataset\n",
    "with open(full_json_path, \"r\", encoding=\"utf-8\") as f:\n",
    "    full_data = json.load(f)\n",
    "\n",
    "# Extract contract entries\n",
    "contracts = full_data[\"data\"]\n",
    "print(f\"Total contracts in dataset: {len(contracts)}\")  # should print 510\n",
    "\n",
    "# Shuffle contracts\n",
    "random.seed(42)\n",
    "random.shuffle(contracts)\n",
    "\n",
    "# Split ratios\n",
    "total = len(contracts)\n",
    "train_end = int(0.7 * total)\n",
    "val_end = train_end + int(0.15 * total)\n",
    "\n",
    "train_data = contracts[:train_end]\n",
    "val_data = contracts[train_end:val_end]\n",
    "test_data = contracts[val_end:]\n",
    "\n",
    "print(f\"Train: {len(train_data)}, Validation: {len(val_data)}, Test: {len(test_data)}\")\n",
    "\n",
    "# Save splits\n",
    "for split_name, data in zip([\"train\", \"validation\", \"test\"], [train_data, val_data, test_data]):\n",
    "    with open(os.path.join(output_dir, f\"{split_name}.json\"), \"w\", encoding=\"utf-8\") as f:\n",
    "        json.dump(data, f, indent=2, ensure_ascii=False)\n",
    "\n",
    "print(f\"Train/Validation/Test JSON files saved in {output_dir}\")\n"
   ]
  }
 ],
 "metadata": {
  "kernelspec": {
   "display_name": "contract-nlp-env (3.13.4)",
   "language": "python",
   "name": "python3"
  },
  "language_info": {
   "codemirror_mode": {
    "name": "ipython",
    "version": 3
   },
   "file_extension": ".py",
   "mimetype": "text/x-python",
   "name": "python",
   "nbconvert_exporter": "python",
   "pygments_lexer": "ipython3",
   "version": "3.13.4"
  }
 },
 "nbformat": 4,
 "nbformat_minor": 5
}
